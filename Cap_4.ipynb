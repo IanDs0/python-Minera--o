{
 "cells": [
  {
   "cell_type": "code",
   "execution_count": 2,
   "metadata": {},
   "outputs": [
    {
     "name": "stdout",
     "output_type": "stream",
     "text": [
      "O angulo digitado foi:\t 90\n",
      "\n",
      "rad:  1.57 \n",
      "cos:  -0.4480736161291701 \n",
      "sen:  0.8939966636005579 \n",
      "tg:  -1.995200412208242\n"
     ]
    }
   ],
   "source": [
    "import math\n",
    "\n",
    "olá= int(input('Digite o angulo'));\n",
    "print ('O angulo digitado foi:\\t',olá);\n",
    "\n",
    "rad = (olá*3.14)/180;\n",
    "\n",
    "print(\"\\nrad: \",rad,\"\\ncos: \",math.cos(olá),\"\\nsen: \",math.sin(olá),\"\\ntg: \",math.tan(olá));"
   ]
  },
  {
   "cell_type": "code",
   "execution_count": 7,
   "metadata": {},
   "outputs": [
    {
     "name": "stdout",
     "output_type": "stream",
     "text": [
      "1.5707963267948966\n"
     ]
    }
   ],
   "source": [
    "import numpy as np\n",
    "\n",
    "olá= int(input('Digite o angulo'))\n",
    "\n",
    "print(np.deg2rad(90))"
   ]
  }
 ],
 "metadata": {
  "interpreter": {
   "hash": "916dbcbb3f70747c44a77c7bcd40155683ae19c65e1c03b4aa3499c5328201f1"
  },
  "kernelspec": {
   "display_name": "Python 3.9.5 64-bit",
   "language": "python",
   "name": "python3"
  },
  "language_info": {
   "codemirror_mode": {
    "name": "ipython",
    "version": 3
   },
   "file_extension": ".py",
   "mimetype": "text/x-python",
   "name": "python",
   "nbconvert_exporter": "python",
   "pygments_lexer": "ipython3",
   "version": "3.9.5"
  },
  "orig_nbformat": 4
 },
 "nbformat": 4,
 "nbformat_minor": 2
}
