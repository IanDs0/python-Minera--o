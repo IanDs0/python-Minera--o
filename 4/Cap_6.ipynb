{
 "cells": [
  {
   "cell_type": "code",
   "execution_count": 31,
   "metadata": {},
   "outputs": [
    {
     "name": "stdout",
     "output_type": "stream",
     "text": [
      "Erro numero não possivel na sequancia.\n"
     ]
    }
   ],
   "source": [
    "n = int(input(\"digite um valor para n: \"));\n",
    "\n",
    "primeiro = int(1)\n",
    "segundo = int(0);\n",
    "prite = int(0);\n",
    "\n",
    "if(n==0): print(\"não possui valor\")\n",
    "elif(n==1): print(\"0\");\n",
    "elif(n>=2): \n",
    "    print(\"0\");\n",
    "    print(\"1\");\n",
    "    for i in range(n-2):\n",
    "        prite = primeiro+segundo;\n",
    "        segundo = primeiro;\n",
    "        primeiro = prite;\n",
    "        print(prite,\"\\t\");\n",
    "else: print(\"Erro numero não possivel na sequancia.\")"
   ]
  },
  {
   "cell_type": "code",
   "execution_count": 36,
   "metadata": {},
   "outputs": [
    {
     "name": "stdout",
     "output_type": "stream",
     "text": [
      "A resposta de 9! é:  362880\n"
     ]
    }
   ],
   "source": [
    "calcule = int(9);\n",
    "resposta = int(1);\n",
    "\n",
    "for i in range(calcule):\n",
    "    resposta *= i+1;\n",
    "\n",
    "print(\"A resposta de 9! é: \",resposta);"
   ]
  },
  {
   "cell_type": "code",
   "execution_count": 41,
   "metadata": {},
   "outputs": [
    {
     "name": "stdout",
     "output_type": "stream",
     "text": [
      "A resposta de 9! é:  362880\n"
     ]
    }
   ],
   "source": [
    "calcule = int(9);\n",
    "resposta = int(1);\n",
    "i = int(0);\n",
    "\n",
    "while(i < calcule):\n",
    "    resposta *= i+1;\n",
    "    i += 1;\n",
    "\n",
    "print(\"A resposta de 9! é: \",resposta);"
   ]
  },
  {
   "cell_type": "code",
   "execution_count": 43,
   "metadata": {},
   "outputs": [
    {
     "name": "stdout",
     "output_type": "stream",
     "text": [
      "subt 10.0\n"
     ]
    }
   ],
   "source": [
    "soma = subt =mult = div = 0;\n",
    "\n",
    "x= int(input(\"Escolha entre:\\n1)soma\\n2)subt\\n3)mult\\n4)div\\n\"));\n",
    "\n",
    "Val1= float(input(\"Digite o primeiro valor a ser usado:  \"));\n",
    "Val2= float(input(\"Digite o segundo valor a ser usado:  \"));\n",
    "\n",
    "if (x==1): \n",
    "\n",
    "    soma = Val1+Val2;\n",
    "    print(\"soma\",soma);\n",
    "\n",
    "elif (x==2): \n",
    "\n",
    "    subt = Val1-Val2;\n",
    "    print(\"subt\",subt);\n",
    "\n",
    "elif (x==3): \n",
    "\n",
    "    mult = Val1*Val2;\n",
    "    print(\"mult\",mult);\n",
    "\n",
    "elif (x==4): \n",
    "\n",
    "    div = Val1/Val2;\n",
    "    print(\"div\",div);\n",
    "\n",
    "else :\n",
    "    print (\"Erro\");"
   ]
  },
  {
   "cell_type": "code",
   "execution_count": 57,
   "metadata": {},
   "outputs": [
    {
     "name": "stdout",
     "output_type": "stream",
     "text": [
      "A resposta de 6! é: 3\n"
     ]
    }
   ],
   "source": [
    "calcule = int(input(\"Digite o numer que deseja achar o fatorial:  \"));\n",
    "resposta = int(1);\n",
    "i = int(0);\n",
    "\n",
    "while(i < calcule):\n",
    "    resposta *= i+1;\n",
    "    i += 1;\n",
    "\n",
    "print(\"A resposta de {0}! é: {1}\".format(calcule,resposta));"
   ]
  },
  {
   "cell_type": "code",
   "execution_count": null,
   "metadata": {},
   "outputs": [],
   "source": [
    "#6.6\n",
    "\n",
    "#Pode ser utilizado desta forma:\n",
    "\n",
    "#    if (x==1): \n",
    "#        foo (10) ;\n",
    "#    elif (x==2): \n",
    "#        foo2 ( X ) ;\n",
    "#    elif (x==3): \n",
    "#        foo (5) ;\n",
    "#    else :\n",
    "#        print ('Erro');"
   ]
  }
 ],
 "metadata": {
  "interpreter": {
   "hash": "916dbcbb3f70747c44a77c7bcd40155683ae19c65e1c03b4aa3499c5328201f1"
  },
  "kernelspec": {
   "display_name": "Python 3.9.5 64-bit",
   "language": "python",
   "name": "python3"
  },
  "language_info": {
   "codemirror_mode": {
    "name": "ipython",
    "version": 3
   },
   "file_extension": ".py",
   "mimetype": "text/x-python",
   "name": "python",
   "nbconvert_exporter": "python",
   "pygments_lexer": "ipython3",
   "version": "3.9.5"
  },
  "orig_nbformat": 4
 },
 "nbformat": 4,
 "nbformat_minor": 2
}
