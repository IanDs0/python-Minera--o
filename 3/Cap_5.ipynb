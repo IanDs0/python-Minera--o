{
 "cells": [
  {
   "cell_type": "code",
   "execution_count": 24,
   "metadata": {},
   "outputs": [
    {
     "name": "stdout",
     "output_type": "stream",
     "text": [
      "\n",
      " O valor a ser sacado é de  173.0\n",
      "\n",
      " O numero de notas 100:  1\n",
      "\n",
      " O numero de notas 50:  1\n",
      "\n",
      " O numero de notas 10 2\n",
      "\n",
      " O numero de notas 1:  3\n"
     ]
    }
   ],
   "source": [
    "import math\n",
    "\n",
    "Valor = float(input('Valor a ser sacado'));\n",
    "\n",
    "print(\"\\n O valor a ser sacado é de \",Valor);\n",
    "\n",
    "cem = Valor /100;\n",
    "Valor = Valor % 100;\n",
    "\n",
    "cinquenta = Valor/50;\n",
    "Valor = Valor %50;\n",
    "\n",
    "dez = Valor/10;\n",
    "Valor = Valor %10;\n",
    "\n",
    "um =Valor;\n",
    "\n",
    "print(\"\\n O numero de notas 100: \", math.floor(cem));\n",
    "print(\"\\n O numero de notas 50: \", math.floor(cinquenta));\n",
    "print(\"\\n O numero de notas 10\", math.floor(dez));\n",
    "print(\"\\n O numero de notas 1: \", math.floor(um));"
   ]
  },
  {
   "cell_type": "code",
   "execution_count": 26,
   "metadata": {},
   "outputs": [
    {
     "name": "stdout",
     "output_type": "stream",
     "text": [
      "O tempo inicial em segundos é de {} 7432\n",
      "\n",
      " O numero de Horas:  2\n",
      "\n",
      " O numero de minutos:  3\n",
      "\n",
      " O numero de segundos:  52\n"
     ]
    }
   ],
   "source": [
    "import math\n",
    "\n",
    "Temp = int(input(\"Digite o numero de segundo sque deseja converter para horas,minutos, sehundos\"));\n",
    "\n",
    "print(\"O tempo inicial em segundos é de {}\",Temp);\n",
    "\n",
    "horas = Temp/3600;\n",
    "Temp %= 3600;\n",
    "\n",
    "minutos = Temp/60;\n",
    "Temp %= 60;\n",
    "\n",
    "segundos= Temp;\n",
    "\n",
    "print(\"\\n O numero de Horas: \",math.floor(horas));\n",
    "print(\"\\n O numero de minutos: \",math.floor(minutos));\n",
    "print(\"\\n O numero de segundos: \",math.floor(segundos));\n"
   ]
  },
  {
   "cell_type": "code",
   "execution_count": 29,
   "metadata": {},
   "outputs": [
    {
     "name": "stdout",
     "output_type": "stream",
     "text": [
      "Primeiro valor:  12.0 \n",
      "Segundo valor:  3.0\n",
      "\n",
      "Soma:  15.0 \n",
      "Subtração:  9.0 \n",
      "Multiplicação:  36.0 \n",
      "Divisão:  4.0\n"
     ]
    }
   ],
   "source": [
    "import math\n",
    "\n",
    "Val1= float(input(\"Digite o primeiro valor a ser usado:  \"));\n",
    "Val2= float(input(\"Digite o segundo valor a ser usado:  \"));\n",
    "\n",
    "soma = Val1+Val2;\n",
    "subt = Val1-Val2;\n",
    "mult = Val1*Val2;\n",
    "div = Val1/Val2;\n",
    "\n",
    "print(\"Primeiro valor: \",Val1,\"\\nSegundo valor: \",Val2);\n",
    "\n",
    "print(\"\\nSoma: \",soma,\"\\nSubtração: \",subt,\"\\nMultiplicação: \",mult,\"\\nDivisão: \",div);"
   ]
  }
 ],
 "metadata": {
  "interpreter": {
   "hash": "916dbcbb3f70747c44a77c7bcd40155683ae19c65e1c03b4aa3499c5328201f1"
  },
  "kernelspec": {
   "display_name": "Python 3.9.5 64-bit",
   "language": "python",
   "name": "python3"
  },
  "language_info": {
   "codemirror_mode": {
    "name": "ipython",
    "version": 3
   },
   "file_extension": ".py",
   "mimetype": "text/x-python",
   "name": "python",
   "nbconvert_exporter": "python",
   "pygments_lexer": "ipython3",
   "version": "3.9.5"
  },
  "orig_nbformat": 4
 },
 "nbformat": 4,
 "nbformat_minor": 2
}
