{
 "cells": [
  {
   "cell_type": "code",
   "execution_count": 79,
   "metadata": {},
   "outputs": [
    {
     "name": "stdout",
     "output_type": "stream",
     "text": [
      "\n",
      "antonio1\n",
      "ian3\n",
      "joao2\n",
      "jose1"
     ]
    }
   ],
   "source": [
    "import numpy as np\n",
    "\n",
    "nomes = ['ian', 'antonio','joao', 'jose', 'ian', 'joao', 'ian']\n",
    "nomes.sort() #ordena\n",
    "\n",
    "tam_vetor = np.size(nomes) #conta o tamanho do vetor\n",
    "\n",
    "repeti = dict()#dicionário\n",
    "tudo = list()\n",
    "\n",
    "repeti[\"nome\"]= nomes[0]\n",
    "repeti[\"cont\"]=1\n",
    "\n",
    "tudo.append(repeti.copy())\n",
    "\n",
    "atual=int(0)\n",
    "\n",
    "for i in range(1,tam_vetor):\n",
    "    if(tudo[atual]['nome']==nomes[i]):\n",
    "        tudo[atual]['cont']+=1;\n",
    "    else:\n",
    "        repeti[\"nome\"]= nomes[i]\n",
    "        repeti[\"cont\"]=1\n",
    "\n",
    "        tudo.append(repeti.copy())\n",
    "        atual+=1\n",
    "\n",
    "for i in tudo:\n",
    "    print();\n",
    "    for x in i.values():\n",
    "        print(x, end='');\n"
   ]
  },
  {
   "cell_type": "code",
   "execution_count": 124,
   "metadata": {},
   "outputs": [
    {
     "name": "stdout",
     "output_type": "stream",
     "text": [
      "\n",
      "10   1   \n",
      "12213   1   \n",
      "edrtgrt   1   \n",
      "ertger   1   \n",
      "fghh   1   \n",
      "ian   2   "
     ]
    }
   ],
   "source": [
    "import numpy as np\n",
    "\n",
    "nomes = []\n",
    "\n",
    "while(1):\n",
    "    nome = str(input('Digite um nome'))\n",
    "    if(nome!=''):\n",
    "        nomes.append(nome)\n",
    "    else: \n",
    "        break\n",
    "\n",
    "nomes.sort() #ordena\n",
    "\n",
    "tam_vetor = np.size(nomes) #conta o tamanho do vetor\n",
    "\n",
    "#dicionário\n",
    "repeti = dict()\n",
    "tudo = list()\n",
    "\n",
    "repeti[\"nome\"]= nomes[0]\n",
    "repeti[\"cont\"]=1\n",
    "\n",
    "tudo.append(repeti.copy())\n",
    "\n",
    "atual=int(0)\n",
    "\n",
    "for i in range(1,tam_vetor):\n",
    "    if(tudo[atual]['nome']==nomes[i]):\n",
    "        tudo[atual]['cont']+=1;\n",
    "    else:\n",
    "        repeti[\"nome\"]= nomes[i]\n",
    "        repeti[\"cont\"]=1\n",
    "\n",
    "        tudo.append(repeti.copy())\n",
    "        atual+=1\n",
    "\n",
    "for i in tudo:\n",
    "    print();\n",
    "    for x in i.values():\n",
    "        print(x,\"  \", end='');\n"
   ]
  },
  {
   "cell_type": "code",
   "execution_count": 123,
   "metadata": {},
   "outputs": [
    {
     "name": "stdout",
     "output_type": "stream",
     "text": [
      " * * como vai a sua vida\n"
     ]
    }
   ],
   "source": [
    "import numpy as np\n",
    "\n",
    "frase = str(input(\"Digite a frase que deseja marcar os nomes:\"))\n",
    "\n",
    "frase_array = frase.split()\n",
    "\n",
    "tam = np.size(frase_array)\n",
    "\n",
    "final = str()\n",
    "\n",
    "for i in range(tam):\n",
    "    if(frase_array[i].islower()==False):\n",
    "        frase_array[i]=frase_array[i].replace(frase_array[i],'*')\n",
    "\n",
    "for i in range(tam):\n",
    "    final+= ' ' + frase_array[i]\n",
    "\n",
    "if(frase.islower() == False):\n",
    "\n",
    "    print(final)\n",
    "\n",
    "else:\n",
    "    print(\"A frase digitada não possui nomes!!!\")\n"
   ]
  },
  {
   "cell_type": "code",
   "execution_count": null,
   "metadata": {},
   "outputs": [],
   "source": []
  },
  {
   "cell_type": "code",
   "execution_count": 138,
   "metadata": {},
   "outputs": [
    {
     "name": "stdout",
     "output_type": "stream",
     "text": [
      "['1', '2', '3']\n"
     ]
    }
   ],
   "source": [
    "import numpy as np\n",
    "\n",
    "N = int(input(\"Digite o tamanho do vetor N\"))\n",
    "\n",
    "lisata_N = list()\n",
    "\n",
    "for i in range(N):\n",
    "    inteiro = input(\"Digite um valar para vetor N:\")\n",
    "    lisata_N.append(inteiro)\n",
    "\n",
    "print(lisata_N)\n"
   ]
  },
  {
   "cell_type": "code",
   "execution_count": 148,
   "metadata": {},
   "outputs": [
    {
     "name": "stdout",
     "output_type": "stream",
     "text": [
      "\n",
      "Soma: 6\n",
      "Média: 2.0\n",
      "Maior: 3\n",
      "Menor: 1\n"
     ]
    }
   ],
   "source": [
    "import numpy as np\n",
    "\n",
    "soma = media = int(0);\n",
    "\n",
    "N = int(input(\"Digite o tamanho do vetor N\"))\n",
    "\n",
    "lisata_N = list()\n",
    "\n",
    "for i in range(N):\n",
    "    inteiro = int(input(\"Digite um valar para vetor N:\"))\n",
    "    lisata_N.append(inteiro)\n",
    "\n",
    "maior = menor = lisata_N[0]\n",
    "\n",
    "for i in range(N):\n",
    "    \n",
    "    soma += lisata_N[i];\n",
    "\n",
    "    if(menor >= lisata_N[i]):\n",
    "        menor = lisata_N[i];\n",
    "\n",
    "    if(maior <= lisata_N[i]):\n",
    "        maior = lisata_N[i];\n",
    "\n",
    "media += soma/N\n",
    "\n",
    "print(\"\\nSoma: {0}\\nMédia: {1}\\nMaior: {2}\\nMenor: {3}\".format(soma,media,maior,menor))"
   ]
  }
 ],
 "metadata": {
  "interpreter": {
   "hash": "916dbcbb3f70747c44a77c7bcd40155683ae19c65e1c03b4aa3499c5328201f1"
  },
  "kernelspec": {
   "display_name": "Python 3.9.5 64-bit",
   "language": "python",
   "name": "python3"
  },
  "language_info": {
   "codemirror_mode": {
    "name": "ipython",
    "version": 3
   },
   "file_extension": ".py",
   "mimetype": "text/x-python",
   "name": "python",
   "nbconvert_exporter": "python",
   "pygments_lexer": "ipython3",
   "version": "3.9.5"
  },
  "orig_nbformat": 4
 },
 "nbformat": 4,
 "nbformat_minor": 2
}
