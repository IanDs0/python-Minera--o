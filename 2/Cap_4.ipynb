{
 "cells": [
  {
   "cell_type": "code",
   "execution_count": 10,
   "metadata": {},
   "outputs": [
    {
     "name": "stdout",
     "output_type": "stream",
     "text": [
      "O angulo digitado foi:\t 0.0\n",
      "\n",
      "rad:  0.0 \n",
      "cos:  1.0 \n",
      "sen:  0.0 \n",
      "tg:  0.0\n"
     ]
    }
   ],
   "source": [
    "import math\n",
    "\n",
    "olá= float(input('Digite o angulo'));\n",
    "print ('O angulo digitado foi:\\t',olá);\n",
    "\n",
    "rad = (olá*3.14)/180;\n",
    "\n",
    "print(\"\\nrad: \",rad,\"\\ncos: \",math.cos(rad),\"\\nsen: \",math.sin(rad),\"\\ntg: \",math.tan(rad));"
   ]
  },
  {
   "cell_type": "code",
   "execution_count": 5,
   "metadata": {},
   "outputs": [
    {
     "name": "stdout",
     "output_type": "stream",
     "text": [
      "1.5707963267948966\n"
     ]
    }
   ],
   "source": [
    "import numpy as np\n",
    "\n",
    "olá= int(input('Digite o angulo'))\n",
    "\n",
    "print(np.deg2rad(olá))"
   ]
  }
 ],
 "metadata": {
  "interpreter": {
   "hash": "916dbcbb3f70747c44a77c7bcd40155683ae19c65e1c03b4aa3499c5328201f1"
  },
  "kernelspec": {
   "display_name": "Python 3.9.5 64-bit",
   "language": "python",
   "name": "python3"
  },
  "language_info": {
   "codemirror_mode": {
    "name": "ipython",
    "version": 3
   },
   "file_extension": ".py",
   "mimetype": "text/x-python",
   "name": "python",
   "nbconvert_exporter": "python",
   "pygments_lexer": "ipython3",
   "version": "3.9.5"
  },
  "orig_nbformat": 4
 },
 "nbformat": 4,
 "nbformat_minor": 2
}
